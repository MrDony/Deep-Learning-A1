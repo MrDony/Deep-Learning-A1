{
 "cells": [
  {
   "cell_type": "code",
   "execution_count": 5,
   "metadata": {},
   "outputs": [],
   "source": [
    "import cv2\n",
    "import os\n",
    "import matplotlib.pyplot as plt"
   ]
  },
  {
   "cell_type": "code",
   "execution_count": 13,
   "metadata": {},
   "outputs": [
    {
     "name": "stdout",
     "output_type": "stream",
     "text": [
      "./archive 5.1.jpg\n",
      "(928, 1306, 3)\n",
      "./archive 5.3.jpg\n",
      "(886, 638, 3)\n",
      "./archive 5.2.jpg\n",
      "(822, 1226, 3)\n",
      "./archive 1.2.jpg\n",
      "(762, 990, 3)\n",
      "./archive 5.6.jpg\n",
      "(886, 818, 3)\n",
      "./archive 3.1.jpg\n",
      "(720, 722, 3)\n",
      "./archive 1.1.jpg\n",
      "(762, 1056, 3)\n",
      "./archive 5.5.jpg\n",
      "(1422, 846, 3)\n",
      "./archive 5.4.jpg\n",
      "(1422, 846, 3)\n",
      "./archive 4.3.jpg\n",
      "(1164, 1454, 3)\n",
      "./archive 4.2.jpg\n",
      "(1546, 1010, 3)\n",
      "./archive 4.1.jpg\n",
      "(758, 1010, 3)\n",
      "./archive 4.5.jpg\n",
      "(932, 1330, 3)\n",
      "./archive 2.3.jpg\n",
      "(774, 638, 3)\n",
      "./archive 2.2.jpg\n",
      "(758, 566, 3)\n",
      "./archive 4.4.jpg\n",
      "(1648, 1330, 3)\n",
      "./archive 4.6.jpg\n",
      "(1382, 946, 3)\n",
      "./archive 2.1.jpg\n",
      "(1136, 1046, 3)\n"
     ]
    }
   ],
   "source": [
    "# Define a function to extract the person label from the file name\n",
    "def extract_person_label(file_name):\n",
    "    return int(file_name.split('.')[0].replace('subject', '')) - 1  # Subtract 1 to make labels start from 0\n",
    "def display_images(images, labels, title):\n",
    "    plt.figure(figsize=(12, 3))\n",
    "    plt.suptitle(title)\n",
    "    for i, (image, label) in enumerate(zip(images, labels), 1):\n",
    "        plt.subplot(1, 4, i)\n",
    "        plt.imshow(image.reshape((243, 320)), cmap='gray')\n",
    "        plt.title(f\"Person {label}\")\n",
    "        plt.axis('off')\n",
    "    plt.show()\n",
    "\n",
    "# Load data and labels\n",
    "# Assuming the dataset files are in the 'dataset' directory\n",
    "dataset_dir = './archive'\n",
    "images_names = []\n",
    "for file_name in os.listdir(dataset_dir):\n",
    "    images_names.append(file_name)\n",
    "    if(not file_name.endswith(\".jpg\")):\n",
    "        continue\n",
    "    #print('filename = ', file_name)\n",
    "    # Load the Haar Cascade classifier for face detection\n",
    "    face_cascade = cv2.CascadeClassifier('./haarcascade_frontalface_default.xml')\n",
    "\n",
    "    # Load your image\n",
    "    print(dataset_dir,file_name)\n",
    "    image = cv2.imread(os.path.join(dataset_dir, file_name))\n",
    "    print(image.shape)\n",
    "    # Convert the image to grayscale for face detection\n",
    "    gray = cv2.cvtColor(image, cv2.COLOR_BGR2GRAY)\n",
    "\n",
    "    # Detect faces in the image\n",
    "    faces = face_cascade.detectMultiScale(gray, scaleFactor=1.3, minNeighbors=5, minSize=(30, 30))\n",
    "\n",
    "    # Iterate through the detected faces and crop them\n",
    "    for (x, y, w, h) in faces:\n",
    "        # Crop the face region from the image\n",
    "        face = gray[y:y + h, x:x + w]\n",
    "\n",
    "        # Save or process the cropped face image as needed\n",
    "        cv2.imwrite('./cropped/'+file_name, face)\n",
    "\n",
    "    # Display the original image with rectangles around the detected faces (optional)\n",
    "    for (x, y, w, h) in faces:\n",
    "        cv2.rectangle(image, (x, y), (x + w, y + h), (0, 255, 0), 2)\n",
    "\n",
    "    #cv2.imshow('Detected Faces', image)\n",
    "    #cv2.waitKey(0)\n",
    "    cv2.destroyAllWindows()\n"
   ]
  },
  {
   "cell_type": "code",
   "execution_count": null,
   "metadata": {},
   "outputs": [],
   "source": []
  }
 ],
 "metadata": {
  "kernelspec": {
   "display_name": "Python 3",
   "language": "python",
   "name": "python3"
  },
  "language_info": {
   "codemirror_mode": {
    "name": "ipython",
    "version": 3
   },
   "file_extension": ".py",
   "mimetype": "text/x-python",
   "name": "python",
   "nbconvert_exporter": "python",
   "pygments_lexer": "ipython3",
   "version": "3.11.4"
  },
  "orig_nbformat": 4
 },
 "nbformat": 4,
 "nbformat_minor": 2
}
